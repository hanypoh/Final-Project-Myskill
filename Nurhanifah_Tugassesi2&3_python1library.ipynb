{
  "nbformat": 4,
  "nbformat_minor": 0,
  "metadata": {
    "colab": {
      "provenance": [],
      "authorship_tag": "ABX9TyNWwxzZNO0YL6/u9ppzL3XY",
      "include_colab_link": true
    },
    "kernelspec": {
      "name": "python3",
      "display_name": "Python 3"
    },
    "language_info": {
      "name": "python"
    }
  },
  "cells": [
    {
      "cell_type": "markdown",
      "metadata": {
        "id": "view-in-github",
        "colab_type": "text"
      },
      "source": [
        "<a href=\"https://colab.research.google.com/github/hanypoh/Final-Project-Myskill/blob/main/Nurhanifah_Tugassesi2%263_python1library.ipynb\" target=\"_parent\"><img src=\"https://colab.research.google.com/assets/colab-badge.svg\" alt=\"Open In Colab\"/></a>"
      ]
    },
    {
      "cell_type": "code",
      "execution_count": null,
      "metadata": {
        "colab": {
          "base_uri": "https://localhost:8080/"
        },
        "id": "VNrFgcK6gUzn",
        "outputId": "fbf3204c-f8e9-4561-a73f-7a6785371576"
      },
      "outputs": [
        {
          "output_type": "stream",
          "name": "stdout",
          "text": [
            "\n",
            "Library System Menu:\n",
            "1. View Available Books\n",
            "2. View Borrowed Books\n",
            "3. Borrow a Book\n",
            "4. Return a Book\n",
            "5. Exit\n",
            "Enter your choice: 1\n",
            "Available Books:\n",
            "Title: Harry Potter, Author: J.K. Rowling, Availability: Available\n",
            "Title: To Kill a Mockingbird, Author: Harper Lee, Availability: Available\n",
            "Title: The Great Gatsby, Author: F. Scott Fitzgerald, Availability: Available\n",
            "Title: Pride and Prejudice, Author: Jane Austen, Availability: Available\n",
            "\n",
            "Library System Menu:\n",
            "1. View Available Books\n",
            "2. View Borrowed Books\n",
            "3. Borrow a Book\n",
            "4. Return a Book\n",
            "5. Exit\n"
          ]
        }
      ],
      "source": [
        "class Book:\n",
        "    def __init__(self, title, author):\n",
        "        self.title = title\n",
        "        self.author = author\n",
        "        self.available = True\n",
        "\n",
        "    def __str__(self):\n",
        "        availability = \"Available\" if self.available else \"Not Available\"\n",
        "        return f\"Title: {self.title}, Author: {self.author}, Availability: {availability}\"\n",
        "\n",
        "\n",
        "class Library:\n",
        "    def __init__(self):\n",
        "        self.books = []\n",
        "\n",
        "    def add_book(self, book):\n",
        "        self.books.append(book)\n",
        "\n",
        "    def view_available_books(self):\n",
        "        print(\"Available Books:\")\n",
        "        for book in self.books:\n",
        "            if book.available:\n",
        "                print(book)\n",
        "\n",
        "    def view_borrowed_books(self):\n",
        "        print(\"Borrowed Books:\")\n",
        "        for book in self.books:\n",
        "            if not book.available:\n",
        "                print(book)\n",
        "\n",
        "    def borrow_book(self, title):\n",
        "        for book in self.books:\n",
        "            if book.title.lower() == title.lower():\n",
        "                if book.available:\n",
        "                    book.available = False\n",
        "                    print(f\"Book '{title}' has been borrowed.\")\n",
        "                else:\n",
        "                    print(f\"Book '{title}' is not available for borrowing.\")\n",
        "                return\n",
        "        print(f\"Book with title '{title}' not found in the library.\")\n",
        "\n",
        "    def return_book(self, title):\n",
        "        for book in self.books:\n",
        "            if book.title.lower() == title.lower():\n",
        "                if not book.available:\n",
        "                    book.available = True\n",
        "                    print(f\"Book '{title}' has been returned.\")\n",
        "                else:\n",
        "                    print(f\"Book '{title}' is already available in the library.\")\n",
        "                return\n",
        "        print(f\"Book with title '{title}' not found in the library.\")\n",
        "\n",
        "\n",
        "def main():\n",
        "    library = Library()\n",
        "\n",
        "    # Adding some books to the library\n",
        "    library.add_book(Book(\"Harry Potter\", \"J.K. Rowling\"))\n",
        "    library.add_book(Book(\"To Kill a Mockingbird\", \"Harper Lee\"))\n",
        "    library.add_book(Book(\"The Great Gatsby\", \"F. Scott Fitzgerald\"))\n",
        "    library.add_book(Book(\"Pride and Prejudice\", \"Jane Austen\"))\n",
        "\n",
        "    while True:\n",
        "        print(\"\\nLibrary System Menu:\")\n",
        "        print(\"1. View Available Books\")\n",
        "        print(\"2. View Borrowed Books\")\n",
        "        print(\"3. Borrow a Book\")\n",
        "        print(\"4. Return a Book\")\n",
        "        print(\"5. Exit\")\n",
        "\n",
        "        choice = input(\"Enter your choice: \")\n",
        "\n",
        "        if choice == '1':\n",
        "            library.view_available_books()\n",
        "        elif choice == '2':\n",
        "            library.view_borrowed_books()\n",
        "        elif choice == '3':\n",
        "            title = input(\"Enter the title of the book you want to borrow: \")\n",
        "            library.borrow_book(title)\n",
        "        elif choice == '4':\n",
        "            title = input(\"Enter the title of the book you want to return: \")\n",
        "            library.return_book(title)\n",
        "        elif choice == '5':\n",
        "            print(\"Exiting the library system.\")\n",
        "            break\n",
        "        else:\n",
        "            print(\"Invalid choice. Please enter a number between 1 and 5.\")\n",
        "\n",
        "\n",
        "if __name__ == \"__main__\":\n",
        "    main()\n"
      ]
    }
  ]
}